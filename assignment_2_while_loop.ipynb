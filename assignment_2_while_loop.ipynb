{
 "cells": [
  {
   "cell_type": "code",
   "execution_count": 19,
   "id": "9262fb50",
   "metadata": {},
   "outputs": [
    {
     "name": "stdout",
     "output_type": "stream",
     "text": [
      "1 \n",
      "2 2 \n",
      "3 3 3 \n",
      "4 4 4 4 \n",
      "5 5 5 5 5 \n"
     ]
    }
   ],
   "source": [
    "x=5                    #pattern_4\n",
    "i=1\n",
    "while i<=x:\n",
    "    j=1\n",
    "    while j<=i:\n",
    "        print(i,end=\" \")\n",
    "        j=j+1\n",
    "    print()\n",
    "    i=i+1"
   ]
  },
  {
   "cell_type": "code",
   "execution_count": 48,
   "id": "eda9ac3d",
   "metadata": {},
   "outputs": [
    {
     "name": "stdout",
     "output_type": "stream",
     "text": [
      "1 \n",
      "1 2 \n",
      "1 2 3 \n",
      "1 2 3 4 \n",
      "1 2 3 4 5 \n"
     ]
    }
   ],
   "source": [
    "#pattern 1\n",
    "x=5\n",
    "i=1\n",
    "while i<=x:\n",
    "    j=1\n",
    "    while j<=i:\n",
    "        print(j,end=\" \")\n",
    "        j=j+1\n",
    "    print()\n",
    "    i=i+1"
   ]
  },
  {
   "cell_type": "code",
   "execution_count": 10,
   "id": "ab88ae1f",
   "metadata": {},
   "outputs": [
    {
     "name": "stdout",
     "output_type": "stream",
     "text": [
      "     1 \n",
      "    1 2 \n",
      "   1 2 3 \n",
      "  1 2 3 4 \n",
      " 1 2 3 4 5 \n"
     ]
    }
   ],
   "source": [
    "#pattern 7\n",
    "x=5\n",
    "i=1\n",
    "while i<=5:\n",
    "    print((x-i)*\" \",end=\" \")\n",
    "    j=1\n",
    "    while j<=i:\n",
    "        print(j,end=\" \")\n",
    "        j=j+1\n",
    "    print()\n",
    "    i=i+1"
   ]
  },
  {
   "cell_type": "code",
   "execution_count": 19,
   "id": "7c2e1f74",
   "metadata": {},
   "outputs": [
    {
     "name": "stdout",
     "output_type": "stream",
     "text": [
      "      A \n",
      "     A B \n",
      "    A B C \n",
      "   A B C D \n",
      "  A B C D E \n"
     ]
    }
   ],
   "source": [
    "#pattern 9\n",
    "x=70\n",
    "i=65\n",
    "while i<x:\n",
    "    print((x-i)*\" \",end=\" \")\n",
    "    j=65\n",
    "    while j<=i:\n",
    "        print(chr(j),end=\" \")\n",
    "        j=j+1\n",
    "    print()\n",
    "    i=i+1"
   ]
  },
  {
   "cell_type": "code",
   "execution_count": 74,
   "id": "13358816",
   "metadata": {},
   "outputs": [
    {
     "name": "stdout",
     "output_type": "stream",
     "text": [
      "     1 \n",
      "    2 2 \n",
      "   3 3 3 \n",
      "  4 4 4 4 \n",
      " 5 5 5 5 5 \n"
     ]
    }
   ],
   "source": [
    "#pattern 12\n",
    "x=5\n",
    "i=1\n",
    "while i<=x:\n",
    "    print((x-i)*\" \",end=\" \")\n",
    "    j=1\n",
    "    while j<=i:\n",
    "        print(i,end=\" \")\n",
    "        j=j+1\n",
    "    print()\n",
    "    i=i+1\n",
    "        "
   ]
  },
  {
   "cell_type": "code",
   "execution_count": 15,
   "id": "734cc75f",
   "metadata": {},
   "outputs": [
    {
     "name": "stdout",
     "output_type": "stream",
     "text": [
      "      A \n",
      "     B B \n",
      "    C C C \n",
      "   D D D D \n",
      "  E E E E E \n"
     ]
    }
   ],
   "source": [
    "#pattern 13\n",
    "x=70\n",
    "i=65\n",
    "while i<x:\n",
    "    print((x-i)*\" \",end=\" \")\n",
    "    j=65\n",
    "    while j<=i:\n",
    "        print(chr(i),end=\" \")\n",
    "        j=j+1\n",
    "    print()\n",
    "    i=i+1\n",
    "        "
   ]
  },
  {
   "cell_type": "code",
   "execution_count": 84,
   "id": "6bd1d6c1",
   "metadata": {},
   "outputs": [
    {
     "name": "stdout",
     "output_type": "stream",
     "text": [
      "5 \n",
      "5 4 \n",
      "5 4 3 \n",
      "5 4 3 2 \n",
      "5 4 3 2 1 \n"
     ]
    }
   ],
   "source": [
    "#pattern 16\n",
    "x=1\n",
    "i=5\n",
    "while i>=x:\n",
    "    j=5\n",
    "    while j>=i:\n",
    "        print(j,end=\" \")\n",
    "        j=j-1\n",
    "    print()\n",
    "    i=i-1"
   ]
  },
  {
   "cell_type": "code",
   "execution_count": 133,
   "id": "5b47556f",
   "metadata": {},
   "outputs": [
    {
     "name": "stdout",
     "output_type": "stream",
     "text": [
      "\n",
      "A \n",
      "A B \n",
      "A B C \n",
      "A B C D \n",
      "A B C D E \n"
     ]
    }
   ],
   "source": [
    "#pattern 3\n",
    "x=70\n",
    "i=65\n",
    "while i<=x:\n",
    "    j=65\n",
    "    while j<i:\n",
    "        print(chr(j),end=\" \")\n",
    "        j=j+1\n",
    "    print()\n",
    "    i=i+1\n"
   ]
  },
  {
   "cell_type": "code",
   "execution_count": 136,
   "id": "2ddae317",
   "metadata": {},
   "outputs": [
    {
     "name": "stdout",
     "output_type": "stream",
     "text": [
      "A \n",
      "B B \n",
      "C C C \n",
      "D D D D \n",
      "E E E E E \n"
     ]
    }
   ],
   "source": [
    "#pattern 5\n",
    "x=70\n",
    "i=65\n",
    "while i<x:\n",
    "    j=65\n",
    "    while j<=i:\n",
    "        print(chr(i),end=\" \")\n",
    "        j=j+1\n",
    "    print()\n",
    "    i=i+1\n"
   ]
  },
  {
   "cell_type": "code",
   "execution_count": 142,
   "id": "42190b6f",
   "metadata": {},
   "outputs": [
    {
     "name": "stdout",
     "output_type": "stream",
     "text": [
      "*\n",
      "**\n",
      "***\n",
      "****\n",
      "*****\n"
     ]
    }
   ],
   "source": [
    "#pattern 3\n",
    "x=5\n",
    "i=1\n",
    "while i<=x:\n",
    "    print(i*\"*\")\n",
    "    i=i+1\n"
   ]
  },
  {
   "cell_type": "code",
   "execution_count": 143,
   "id": "1e5a5b50",
   "metadata": {},
   "outputs": [
    {
     "name": "stdout",
     "output_type": "stream",
     "text": [
      "    *\n",
      "   **\n",
      "  ***\n",
      " ****\n",
      "*****\n"
     ]
    }
   ],
   "source": [
    "#pattern 6\n",
    "x=5\n",
    "i=1\n",
    "while i<=x:\n",
    "    print((x-i)*\" \"+i*\"*\")\n",
    "    i=i+1\n"
   ]
  },
  {
   "cell_type": "code",
   "execution_count": 25,
   "id": "780688ea",
   "metadata": {},
   "outputs": [
    {
     "name": "stdout",
     "output_type": "stream",
     "text": [
      "1 2 3 4 5 \n",
      "1 2 3 4 \n",
      "1 2 3 \n",
      "1 2 \n",
      "1 \n",
      "\n"
     ]
    }
   ],
   "source": [
    "#pattern 14\n",
    "x=6 \n",
    "i=1\n",
    "while i<=x:\n",
    "    j=x-1\n",
    "    while j>=i:\n",
    "        print((x-j),end=\" \")\n",
    "        j=j-1\n",
    "    print()\n",
    "    i=i+1"
   ]
  },
  {
   "cell_type": "code",
   "execution_count": 53,
   "id": "6dd6f9b4",
   "metadata": {},
   "outputs": [
    {
     "name": "stdout",
     "output_type": "stream",
     "text": [
      "A B C D E \n",
      "A B C D \n",
      "A B C \n",
      "A B \n",
      "A \n"
     ]
    }
   ],
   "source": [
    "#pattern 18\n",
    "n=5                \n",
    "i=1\n",
    "while i<=n:\n",
    "    j=n\n",
    "    while j>=i:\n",
    "        print(chr(70-j),end=\" \")\n",
    "        j=j-1\n",
    "    print()\n",
    "    i=i+1"
   ]
  },
  {
   "cell_type": "code",
   "execution_count": 26,
   "id": "142562f3",
   "metadata": {},
   "outputs": [
    {
     "name": "stdout",
     "output_type": "stream",
     "text": [
      "5 4 3 2 1 \n",
      "5 4 3 2 \n",
      "5 4 3 \n",
      "5 4 \n",
      "5 \n"
     ]
    }
   ],
   "source": [
    "#pattern 15\n",
    "x=5                   \n",
    "i=1\n",
    "while i<=x:\n",
    "    j=x\n",
    "    while j>=i:\n",
    "        print((j),end=\" \")\n",
    "        j=j-1\n",
    "    print()\n",
    "    i=i+1"
   ]
  },
  {
   "cell_type": "code",
   "execution_count": 56,
   "id": "eb050478",
   "metadata": {},
   "outputs": [
    {
     "name": "stdout",
     "output_type": "stream",
     "text": [
      "\n",
      "1 \n",
      "2 3 \n",
      "4 5 6 \n",
      "7 8 9 10 \n",
      "11 12 13 14 15 \n"
     ]
    }
   ],
   "source": [
    " #pattern 17\n",
    "n=6         \n",
    "i=1\n",
    "k=1\n",
    "while i<=n:\n",
    "    j=1\n",
    "    while j<i:\n",
    "        print(k,end=\" \")\n",
    "        j=j+1\n",
    "        k=k+1\n",
    "    print()\n",
    "    i=i+1"
   ]
  },
  {
   "cell_type": "code",
   "execution_count": null,
   "id": "326533b0",
   "metadata": {},
   "outputs": [],
   "source": [
    "--------------------------------stars------------------------------------------"
   ]
  },
  {
   "cell_type": "code",
   "execution_count": 145,
   "id": "0380c25f",
   "metadata": {},
   "outputs": [
    {
     "name": "stdout",
     "output_type": "stream",
     "text": [
      "*****\n",
      "****\n",
      "***\n",
      "**\n",
      "*\n"
     ]
    }
   ],
   "source": [
    "#pattern 2\n",
    "x=1\n",
    "i=5\n",
    "while i>=x:\n",
    "    print(i*\"*\")\n",
    "    i=i-1"
   ]
  },
  {
   "cell_type": "code",
   "execution_count": 148,
   "id": "e64922db",
   "metadata": {},
   "outputs": [
    {
     "name": "stdout",
     "output_type": "stream",
     "text": [
      "    *\n",
      "   **\n",
      "  ***\n",
      " ****\n",
      "*****\n"
     ]
    }
   ],
   "source": [
    "#pattern 3\n",
    "x=5\n",
    "i=1\n",
    "while i<=x:\n",
    "    print((x-i)*\" \"+i*\"*\")\n",
    "    i=i+1"
   ]
  },
  {
   "cell_type": "code",
   "execution_count": 81,
   "id": "03b1da4e",
   "metadata": {},
   "outputs": [
    {
     "name": "stdout",
     "output_type": "stream",
     "text": [
      "*****\n",
      " ****\n",
      "  ***\n",
      "   **\n",
      "    *\n"
     ]
    }
   ],
   "source": [
    "#pattern 4\n",
    "n=5\n",
    "x=5\n",
    "i=0\n",
    "while n>i:\n",
    "    print((x-n)*\" \"+n*\"*\")\n",
    "    n=n-1"
   ]
  },
  {
   "cell_type": "code",
   "execution_count": 35,
   "id": "2d6693ca",
   "metadata": {},
   "outputs": [
    {
     "name": "stdout",
     "output_type": "stream",
     "text": [
      "*\n",
      "**\n",
      "***\n",
      "****\n",
      "*****\n",
      "****\n",
      "***\n",
      "**\n",
      "*\n"
     ]
    }
   ],
   "source": [
    "#pattern 5\n",
    "x=4\n",
    "i=1\n",
    "j=0\n",
    "while i<=x:\n",
    "    print(i*\"*\")\n",
    "    i=i+1\n",
    "    if i>4:\n",
    "        while x>=j:\n",
    "            print((x+1)*\"*\")\n",
    "            x=x-1"
   ]
  },
  {
   "cell_type": "code",
   "execution_count": 46,
   "id": "8431528b",
   "metadata": {},
   "outputs": [
    {
     "name": "stdout",
     "output_type": "stream",
     "text": [
      "*****\n",
      "****\n",
      "***\n",
      "**\n",
      "*\n",
      "**\n",
      "***\n",
      "****\n",
      "*****\n"
     ]
    }
   ],
   "source": [
    "#pattern 6\n",
    "x=1\n",
    "i=5\n",
    "while i>=x:\n",
    "    print(i*\"*\")\n",
    "    i=i-1\n",
    "    if i<1:\n",
    "        j=5\n",
    "        while x<j:\n",
    "            print((x+1)*\"*\")\n",
    "            x=x+1"
   ]
  },
  {
   "cell_type": "code",
   "execution_count": 84,
   "id": "44e29b21",
   "metadata": {},
   "outputs": [
    {
     "name": "stdout",
     "output_type": "stream",
     "text": [
      "    *\n",
      "   **\n",
      "  ***\n",
      " ****\n",
      "*****\n",
      " ****\n",
      "  ***\n",
      "   **\n",
      "    *\n"
     ]
    }
   ],
   "source": [
    "#pattern 7\n",
    "x=5\n",
    "i=1\n",
    "while i<x:\n",
    "    print((x-i)*\" \"+i*\"*\")\n",
    "    i=i+1\n",
    "    if i>4:\n",
    "        n=5\n",
    "        while x>0:\n",
    "            print((n-x)*\" \"+x*\"*\")\n",
    "            x=x-1"
   ]
  },
  {
   "cell_type": "code",
   "execution_count": 96,
   "id": "c8c01fdd",
   "metadata": {},
   "outputs": [
    {
     "name": "stdout",
     "output_type": "stream",
     "text": [
      "*****\n",
      " ****\n",
      "  ***\n",
      "   **\n",
      "    *\n",
      "   **\n",
      "  ***\n",
      " ****\n",
      "*****\n"
     ]
    }
   ],
   "source": [
    "#pattern 8\n",
    "x=5\n",
    "y=5\n",
    "i=1\n",
    "while x>=i:\n",
    "    print((y-x)*\" \"+x*\"*\")\n",
    "    x=x-1\n",
    "    if x<1:\n",
    "        while i<y:\n",
    "            print((y-(i+1))*\" \"+(i+1)*\"*\")\n",
    "            i=i+1"
   ]
  },
  {
   "cell_type": "code",
   "execution_count": 258,
   "id": "5edbf291",
   "metadata": {},
   "outputs": [
    {
     "name": "stdout",
     "output_type": "stream",
     "text": [
      "     *      \n",
      "    ***     \n",
      "   *****    \n",
      "  *******   \n",
      " *********  \n"
     ]
    }
   ],
   "source": [
    "#pattern 9\n",
    "n=9\n",
    "i=1\n",
    "while i<=n:\n",
    "    v=str(i*\"*\")\n",
    "    print(v.center(12,\" \"))\n",
    "    i=i+2"
   ]
  },
  {
   "cell_type": "code",
   "execution_count": 2,
   "id": "20214487",
   "metadata": {},
   "outputs": [
    {
     "name": "stdout",
     "output_type": "stream",
     "text": [
      " *********  \n",
      "  *******   \n",
      "   *****    \n",
      "    ***     \n",
      "     *      \n"
     ]
    }
   ],
   "source": [
    "n=1\n",
    "i=9\n",
    "while i>=n:\n",
    "    v=str(i*\"*\")\n",
    "    print(v.center(12,\" \"))\n",
    "    i=i-2\n",
    "    "
   ]
  },
  {
   "cell_type": "code",
   "execution_count": 97,
   "id": "25597d55",
   "metadata": {},
   "outputs": [
    {
     "name": "stdout",
     "output_type": "stream",
     "text": [
      " *********  \n",
      "  *******   \n",
      "   *****    \n",
      "    ***     \n",
      "     *      \n",
      "    ***     \n",
      "   *****    \n",
      "  *******   \n",
      " *********  \n"
     ]
    }
   ],
   "source": [
    "#pattern 12\n",
    "n=1\n",
    "i=9\n",
    "while i>=n:\n",
    "    v=str(i*\"*\")\n",
    "    print(v.center(12,\" \"))\n",
    "    i=i-2\n",
    "    if i<=-1:\n",
    "        x=10\n",
    "        j=n+2\n",
    "        while j<=x:\n",
    "            y=str(j*\"*\")\n",
    "            print(y.center(12,\" \"))\n",
    "            j=j+2       "
   ]
  },
  {
   "cell_type": "code",
   "execution_count": 98,
   "id": "68230fbc",
   "metadata": {},
   "outputs": [
    {
     "name": "stdout",
     "output_type": "stream",
     "text": [
      "*       *\n",
      "**     **\n",
      "***   ***\n",
      "**** ****\n",
      "*********\n"
     ]
    }
   ],
   "source": [
    "#pattern 13\n",
    "n=-1\n",
    "i=7\n",
    "while i>=n:\n",
    "    v=str(i*\" \")\n",
    "    print(v.center(9,\"*\"))\n",
    "    i=i-2"
   ]
  },
  {
   "cell_type": "code",
   "execution_count": 99,
   "id": "d8bb1820",
   "metadata": {},
   "outputs": [
    {
     "name": "stdout",
     "output_type": "stream",
     "text": [
      "*********\n",
      "**** ****\n",
      "***   ***\n",
      "**     **\n",
      "*       *\n"
     ]
    }
   ],
   "source": [
    "#pattern 14\n",
    "n=7\n",
    "i=-1\n",
    "while i<=n:\n",
    "    v=str(i*\" \")\n",
    "    print(v.center(9,\"*\"))\n",
    "    i=i+2"
   ]
  },
  {
   "cell_type": "code",
   "execution_count": 100,
   "id": "a521bc6a",
   "metadata": {},
   "outputs": [
    {
     "name": "stdout",
     "output_type": "stream",
     "text": [
      "*       *\n",
      "**     **\n",
      "***   ***\n",
      "**** ****\n",
      "*********\n",
      "**** ****\n",
      "***   ***\n",
      "**     **\n",
      "*       *\n"
     ]
    }
   ],
   "source": [
    "#pattern 15\n",
    "n=-1\n",
    "i=7\n",
    "while i>=n:\n",
    "    v=str(i*\" \")\n",
    "    print(v.center(9,\"*\"))\n",
    "    i=i-2\n",
    "    if i<=-2:\n",
    "        x=7\n",
    "        j=1\n",
    "        while j<=x:\n",
    "            y=str(j*\" \")\n",
    "            print(y.center(9,\"*\"))\n",
    "            j=j+2"
   ]
  },
  {
   "cell_type": "code",
   "execution_count": 101,
   "id": "4d53e221",
   "metadata": {},
   "outputs": [
    {
     "name": "stdout",
     "output_type": "stream",
     "text": [
      "*********\n",
      "**** ****\n",
      "***   ***\n",
      "**     **\n",
      "*       *\n",
      "*       *\n",
      "**     **\n",
      "***   ***\n",
      "**** ****\n",
      "*********\n"
     ]
    }
   ],
   "source": [
    "#pattern 16\n",
    "n=7\n",
    "i=-1\n",
    "while i<=n:\n",
    "    v=str(i*\" \")\n",
    "    print(v.center(9,\"*\"))\n",
    "    i=i+2\n",
    "    if i==9:\n",
    "        j=7\n",
    "        x=-1\n",
    "        while j>=x:\n",
    "            y=str(j*\" \")\n",
    "            print(y.center(9,\"*\"))\n",
    "            j=j-2"
   ]
  },
  {
   "cell_type": "code",
   "execution_count": 370,
   "id": "fd0562f4",
   "metadata": {},
   "outputs": [
    {
     "name": "stdout",
     "output_type": "stream",
     "text": [
      "*\n",
      "**\n",
      "* *\n",
      "*  *\n",
      "*****\n"
     ]
    }
   ],
   "source": [
    "#pattern 17\n",
    "i=1\n",
    "x=4\n",
    "while i<=x+1:\n",
    "    if i<=2 or i==5:\n",
    "        print((i)*\"*\")\n",
    "    else:\n",
    "        print(\"*\"+(i-2)*\" \"+\"*\")\n",
    "    i=i+1\n",
    "    "
   ]
  },
  {
   "cell_type": "code",
   "execution_count": 371,
   "id": "c0c03271",
   "metadata": {},
   "outputs": [
    {
     "name": "stdout",
     "output_type": "stream",
     "text": [
      "*****\n",
      "*  *\n",
      "* *\n",
      "**\n",
      "*"
     ]
    }
   ],
   "source": [
    "#pattern 18\n",
    "i=2\n",
    "x=5\n",
    "while i<=x:\n",
    "    if i==2:\n",
    "        print(x*\"*\")\n",
    "    else:\n",
    "        print((x-i)*\" \"+\"*\")\n",
    "    i=i+1\n",
    "    print(end=\"*\")"
   ]
  },
  {
   "cell_type": "code",
   "execution_count": 381,
   "id": "80ce8299",
   "metadata": {},
   "outputs": [
    {
     "name": "stdout",
     "output_type": "stream",
     "text": [
      "    *\n",
      "   **\n",
      "  * *\n",
      " *  *\n",
      "*****\n"
     ]
    }
   ],
   "source": [
    "#pattern 19\n",
    "i=1\n",
    "x=5\n",
    "while i<=x:\n",
    "    if i<=2 or i==5:\n",
    "        print((x-i)*\" \"+i*\"*\")\n",
    "    else:\n",
    "        print((x-i)*\" \"+\"*\"+(i-2)*\" \"+\"*\")\n",
    "    i=i+1\n",
    "    "
   ]
  },
  {
   "cell_type": "code",
   "execution_count": 58,
   "id": "30bb9551",
   "metadata": {},
   "outputs": [
    {
     "name": "stdout",
     "output_type": "stream",
     "text": [
      "*****\n",
      "*  *\n",
      "* *\n",
      "**\n",
      "*\n",
      "**\n",
      "* *\n",
      "*  *\n",
      "*****\n"
     ]
    }
   ],
   "source": [
    "#pattern 22\n",
    "i=1\n",
    "x=9\n",
    "y=5\n",
    "while i<=x:\n",
    "    if i==1 or i==9:\n",
    "        print(5*\"*\")\n",
    "    elif i>1 and i<5:\n",
    "        print(\"*\"+((y-1)-i)*\" \"+\"*\")\n",
    "    elif i>5 and i<9:\n",
    "        print(\"*\"+((i-y)-1)*\" \"+\"*\")\n",
    "    else:\n",
    "        print(\"*\")\n",
    "    i=i+1"
   ]
  },
  {
   "cell_type": "code",
   "execution_count": 9,
   "id": "05c0c033",
   "metadata": {},
   "outputs": [
    {
     "name": "stdout",
     "output_type": "stream",
     "text": [
      "   *****\n",
      "    *  *\n",
      "     * *\n",
      "      **\n",
      "       *\n",
      "      **\n",
      "     * *\n",
      "    *  *\n",
      "   *****\n"
     ]
    }
   ],
   "source": [
    "#pattern 24\n",
    "\n",
    "n=9\n",
    "i=1\n",
    "while i<=n:\n",
    "    if i>=2 and i<=4:\n",
    "        print(\" \"*(i+2)+\"*\"+(4-i)*\" \"+\"*\")\n",
    "    elif i==1:\n",
    "        print(\" \"*(4-i)+\"*\"*(n-4))\n",
    "    elif i==5:\n",
    "        print(\" \"*(7)+\"*\")\n",
    "    elif i<=8:\n",
    "        print(\" \"*(n-(i-3))+\"*\"+\" \"*(i-6)+\"*\")\n",
    "    elif i==9:\n",
    "        print(\" \"*(3)+\"*\"*5)\n",
    "    else:\n",
    "        print()\n",
    "    i=i+1"
   ]
  },
  {
   "cell_type": "code",
   "execution_count": 1,
   "id": "ce06d5b5",
   "metadata": {},
   "outputs": [
    {
     "name": "stdout",
     "output_type": "stream",
     "text": [
      "    *\n",
      "   * *\n",
      "  *   *\n",
      " *     *\n",
      "* * * * * \n"
     ]
    }
   ],
   "source": [
    "#pattern 25\n",
    "i=0\n",
    "x=5\n",
    "while i<5:\n",
    "    if i==0:\n",
    "        print(\" \"*(x-i-1)+\"*\")\n",
    "    elif i==4:\n",
    "        print(\"* \"*(i+1))\n",
    "    else:\n",
    "        print(\" \"*(4-i)+\"*\"+\" \"*((i*2)-1)+\"*\")\n",
    "    i=i+1\n",
    "        "
   ]
  },
  {
   "cell_type": "code",
   "execution_count": 2,
   "id": "08c845d0",
   "metadata": {},
   "outputs": [
    {
     "name": "stdout",
     "output_type": "stream",
     "text": [
      " * * * * *\n",
      "  *     *\n",
      "   *   *\n",
      "    * *\n",
      "     *\n"
     ]
    }
   ],
   "source": [
    "#pattern 26\n",
    "i=0\n",
    "x=5\n",
    "while i<5:\n",
    "    if i==0:\n",
    "        print(\" *\"*(x))\n",
    "    elif i==4:\n",
    "        print(\" \"*i+\" *\")\n",
    "    else:\n",
    "        print(\" \"*(i+1)+\"*\"+\" \"*(((4-i)*2-1))+\"*\")\n",
    "    i=i+1\n"
   ]
  },
  {
   "cell_type": "code",
   "execution_count": 3,
   "id": "7006077e",
   "metadata": {},
   "outputs": [
    {
     "name": "stdout",
     "output_type": "stream",
     "text": [
      "     *\n",
      "    * *\n",
      "   *   *\n",
      "  *     *\n",
      " *       *\n",
      "  *     *\n",
      "   *   *\n",
      "    * *\n",
      "     *\n"
     ]
    }
   ],
   "source": [
    "#pattern 27\n",
    "i=0\n",
    "n=9\n",
    "while i<n:\n",
    "    if i==0:\n",
    "        print(\" \"*(n-4)+\"*\")\n",
    "    elif i<=3:\n",
    "        print(\" \"*(4-i)+\" *\"+\" \"*((i*2)-1)+\"*\")\n",
    "    elif i==8:\n",
    "        print(\" \"*(i-3)+\"*\")\n",
    "    else:\n",
    "        print(\" \"*(i-3)+\"*\"+\" \"*((8-i)*2-1)+\"*\")\n",
    "    i=i+1"
   ]
  },
  {
   "cell_type": "code",
   "execution_count": 4,
   "id": "d225e26e",
   "metadata": {},
   "outputs": [
    {
     "name": "stdout",
     "output_type": "stream",
     "text": [
      "**********\n",
      " *      *\n",
      "  *    *\n",
      "   *  *\n",
      "     *\n",
      "   *  *\n",
      "  *    *\n",
      " *      *\n",
      "**********\n"
     ]
    }
   ],
   "source": [
    "#pattern 28\n",
    "n=9\n",
    "i=1\n",
    "while i<=n:\n",
    "    if i==1 or i==9:\n",
    "        print(\"*\"*(n+1))\n",
    "    elif i==2 or i==3  or i==4:\n",
    "        print(\" \"*(i-1)+\"*\"+\"  \"*(5-i)+\"*\")\n",
    "    elif i==5:\n",
    "        print(\" \"*(i)+\"*\")\n",
    "    else:\n",
    "        print(\" \"*(n-i)+\"*\"+\"  \"*(i-5)+\"*\")\n",
    "    i=i+1"
   ]
  },
  {
   "cell_type": "code",
   "execution_count": 5,
   "id": "3dbaed0b",
   "metadata": {},
   "outputs": [
    {
     "name": "stdout",
     "output_type": "stream",
     "text": [
      "*****\n",
      "*****\n",
      "*****\n",
      "*****\n",
      "*****\n"
     ]
    }
   ],
   "source": [
    "#pattern 29\n",
    "x=5\n",
    "i=1\n",
    "while i<=x:\n",
    "    print(x*\"*\")\n",
    "    i=i+1"
   ]
  }
 ],
 "metadata": {
  "kernelspec": {
   "display_name": "Python 3 (ipykernel)",
   "language": "python",
   "name": "python3"
  },
  "language_info": {
   "codemirror_mode": {
    "name": "ipython",
    "version": 3
   },
   "file_extension": ".py",
   "mimetype": "text/x-python",
   "name": "python",
   "nbconvert_exporter": "python",
   "pygments_lexer": "ipython3",
   "version": "3.9.13"
  }
 },
 "nbformat": 4,
 "nbformat_minor": 5
}
