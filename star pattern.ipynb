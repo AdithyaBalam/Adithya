{
 "cells": [
  {
   "cell_type": "code",
   "execution_count": 2,
   "id": "e35b52a1",
   "metadata": {},
   "outputs": [
    {
     "name": "stdout",
     "output_type": "stream",
     "text": [
      "*****\n",
      "****\n",
      "***\n",
      "**\n",
      "*\n"
     ]
    }
   ],
   "source": [
    "#pattern 2\n",
    "n=5\n",
    "for i in range(n,0,-1):\n",
    "    print(i*\"*\")"
   ]
  },
  {
   "cell_type": "code",
   "execution_count": 1,
   "id": "9786527b",
   "metadata": {},
   "outputs": [
    {
     "name": "stdout",
     "output_type": "stream",
     "text": [
      "    *\n",
      "   **\n",
      "  ***\n",
      " ****\n",
      "*****\n"
     ]
    }
   ],
   "source": [
    "#pattern 3\n",
    "n=5\n",
    "for i in range(n):\n",
    "    i=i+1\n",
    "    print((n-i)*\" \"+i*\"*\")"
   ]
  },
  {
   "cell_type": "code",
   "execution_count": 8,
   "id": "31233c8b",
   "metadata": {},
   "outputs": [
    {
     "name": "stdout",
     "output_type": "stream",
     "text": [
      "*****\n",
      " ****\n",
      "  ***\n",
      "   **\n",
      "    *\n"
     ]
    }
   ],
   "source": [
    "#pattern 4\n",
    "n=5\n",
    "for i in range(n,0,-1):\n",
    "    print((n-i)*\" \"+i*\"*\")"
   ]
  },
  {
   "cell_type": "code",
   "execution_count": 86,
   "id": "f56f97d7",
   "metadata": {},
   "outputs": [
    {
     "name": "stdout",
     "output_type": "stream",
     "text": [
      "*\n",
      "**\n",
      "***\n",
      "****\n",
      "*****\n",
      "****\n",
      "***\n",
      "**\n",
      "*\n",
      "\n"
     ]
    }
   ],
   "source": [
    "#pattern 5\n",
    "n=5\n",
    "for i in range(n):\n",
    "    i=i+1\n",
    "    print(i*\"*\")\n",
    "    if i==5:\n",
    "        for j in range(1,n):\n",
    "            print((n-j)*\"*\")\n",
    "print()\n",
    "        "
   ]
  },
  {
   "cell_type": "code",
   "execution_count": 87,
   "id": "fbb15ee8",
   "metadata": {},
   "outputs": [
    {
     "name": "stdout",
     "output_type": "stream",
     "text": [
      "*****\n",
      "****\n",
      "***\n",
      "**\n",
      "*\n",
      "**\n",
      "***\n",
      "****\n",
      "*****\n"
     ]
    }
   ],
   "source": [
    "#pattern 6\n",
    "n=5\n",
    "for i in range(n):\n",
    "    print((n-i)*\"*\")\n",
    "    if i==4:\n",
    "        for j in range(1,n):\n",
    "            print((j+1)*\"*\")\n",
    "    "
   ]
  },
  {
   "cell_type": "code",
   "execution_count": 117,
   "id": "e1e83b8b",
   "metadata": {},
   "outputs": [
    {
     "name": "stdout",
     "output_type": "stream",
     "text": [
      "    *\n",
      "   **\n",
      "  ***\n",
      " ****\n",
      "*****\n",
      " ****\n",
      "  ***\n",
      "   **\n",
      "    *\n"
     ]
    }
   ],
   "source": [
    "#pattern 7\n",
    "n=5\n",
    "for i in range(n):\n",
    "    i=i+1\n",
    "    print((n-i)*\" \"+i*\"*\")\n",
    "    if i==5:\n",
    "        for j in range(1,n):\n",
    "            x=n-j\n",
    "            print(j*\" \"+x*\"*\")"
   ]
  },
  {
   "cell_type": "code",
   "execution_count": 132,
   "id": "c8615da6",
   "metadata": {},
   "outputs": [
    {
     "name": "stdout",
     "output_type": "stream",
     "text": [
      "*****\n",
      " ****\n",
      "  ***\n",
      "   **\n",
      "    *\n",
      "   **\n",
      "  ***\n",
      " ****\n",
      "*****\n"
     ]
    }
   ],
   "source": [
    "#pattern 8\n",
    "n=5\n",
    "for i in range(n):\n",
    "    x=n-i\n",
    "    print(i*\" \"+x*\"*\")\n",
    "    if i==4:\n",
    "        for j in range(1,n):\n",
    "            y=j+1\n",
    "            print(((n-1)-j)*\" \"+y*\"*\")\n",
    "    "
   ]
  },
  {
   "cell_type": "code",
   "execution_count": 155,
   "id": "e6401ac8",
   "metadata": {},
   "outputs": [
    {
     "name": "stdout",
     "output_type": "stream",
     "text": [
      "     *      \n",
      "    ***     \n",
      "   *****    \n",
      "  *******   \n",
      " *********  \n"
     ]
    }
   ],
   "source": [
    "#pattern 9\n",
    "n=10\n",
    "for i in range(1,n,2):\n",
    "    print((i*\"*\").center(12,\" \"))"
   ]
  },
  {
   "cell_type": "code",
   "execution_count": 182,
   "id": "2c64566c",
   "metadata": {},
   "outputs": [
    {
     "name": "stdout",
     "output_type": "stream",
     "text": [
      " *********  \n",
      "  *******   \n",
      "   *****    \n",
      "    ***     \n",
      "     *      \n",
      "    ***     \n",
      "   *****    \n",
      "  *******   \n",
      " *********  \n"
     ]
    }
   ],
   "source": [
    "#pattern 12\n",
    "n=9\n",
    "for i in range(n,0,-2):\n",
    "    print((i*\"*\").center(12,\" \"))\n",
    "    if i==1:\n",
    "        for j in range(1,n+1,2):\n",
    "            if j==1:\n",
    "                continue\n",
    "            print((j*\"*\").center(12,\" \"))"
   ]
  },
  {
   "cell_type": "code",
   "execution_count": 241,
   "id": "d483c1a6",
   "metadata": {},
   "outputs": [
    {
     "name": "stdout",
     "output_type": "stream",
     "text": [
      "*        *\n",
      "**      **\n",
      "***    ***\n",
      "****  ****\n",
      "**********\n"
     ]
    }
   ],
   "source": [
    "#pattern 13\n",
    "for j in range(10,-2,-2):\n",
    "    if j==10:\n",
    "        continue\n",
    "    print((j*\" \").center(10,\"*\"))"
   ]
  },
  {
   "cell_type": "code",
   "execution_count": 255,
   "id": "f28e89e6",
   "metadata": {},
   "outputs": [
    {
     "name": "stdout",
     "output_type": "stream",
     "text": [
      "**********\n",
      "****  ****\n",
      "***    ***\n",
      "**      **\n",
      "*        *\n"
     ]
    }
   ],
   "source": [
    "#pattern 14\n",
    "for j in range(0,10,2):\n",
    "    print((j*\" \").center(10,\"*\"))"
   ]
  },
  {
   "cell_type": "code",
   "execution_count": 302,
   "id": "3202e7ed",
   "metadata": {},
   "outputs": [
    {
     "name": "stdout",
     "output_type": "stream",
     "text": [
      "          \n",
      "*        *\n",
      "**      **\n",
      "***    ***\n",
      "****  ****\n",
      "**********\n",
      "****  ****\n",
      "***    ***\n",
      "**      **\n",
      "*        *\n"
     ]
    }
   ],
   "source": [
    "#pattern 15\n",
    "for j in range(10,0,-2):\n",
    "    print((j*\" \").center(10,\"*\"))\n",
    "    if j==2:\n",
    "        for i in range(0,10,2):\n",
    "             print((i*\" \").center(10,\"*\"))\n",
    "            "
   ]
  },
  {
   "cell_type": "code",
   "execution_count": 303,
   "id": "ea1d7b97",
   "metadata": {},
   "outputs": [
    {
     "name": "stdout",
     "output_type": "stream",
     "text": [
      "**********\n",
      "****  ****\n",
      "***    ***\n",
      "**      **\n",
      "*        *\n",
      "*        *\n",
      "**      **\n",
      "***    ***\n",
      "****  ****\n",
      "**********\n"
     ]
    }
   ],
   "source": [
    "#pattern 16\n",
    "for i in range(0,10,2):\n",
    "        print((i*\" \").center(10,\"*\"))\n",
    "        if i==8:\n",
    "            for j in range(10,-2,-2):\n",
    "                if j==10:\n",
    "                    continue\n",
    "                print((j*\" \").center(10,\"*\"))"
   ]
  },
  {
   "cell_type": "code",
   "execution_count": 407,
   "id": "2f5ab68f",
   "metadata": {},
   "outputs": [
    {
     "name": "stdout",
     "output_type": "stream",
     "text": [
      "*    \n",
      "**   \n",
      "* *  \n",
      "*  * \n",
      "*****\n"
     ]
    }
   ],
   "source": [
    "#pattern 17\n",
    "n=5\n",
    "for i in range(0,n):\n",
    "    for j in range(0,n):\n",
    "        if j==0 or j==i or i==n-1:\n",
    "            print(\"*\",end=\"\")\n",
    "        else:\n",
    "            print(end=\" \")\n",
    "    print()\n",
    "            "
   ]
  },
  {
   "cell_type": "code",
   "execution_count": 61,
   "id": "de7ec589",
   "metadata": {},
   "outputs": [
    {
     "name": "stdout",
     "output_type": "stream",
     "text": [
      "*****\n",
      "*  * \n",
      "* *  \n",
      "**   \n",
      "*    \n"
     ]
    }
   ],
   "source": [
    "#pattern 18\n",
    "n=5\n",
    "for i in range(0,n):\n",
    "    for j in range(0,n):\n",
    "        if j==0 or i==0 or i+j==n-1:\n",
    "            print(\"*\",end=\"\")\n",
    "        else:\n",
    "            print(end=\" \")\n",
    "    print()"
   ]
  },
  {
   "cell_type": "code",
   "execution_count": 79,
   "id": "8b653ae2",
   "metadata": {},
   "outputs": [
    {
     "name": "stdout",
     "output_type": "stream",
     "text": [
      "    *\n",
      "   **\n",
      "  * *\n",
      " *  *\n",
      "*****\n"
     ]
    }
   ],
   "source": [
    "#pattern 19\n",
    "n=5\n",
    "for i in range(0,n):\n",
    "    for j in range(0,n):\n",
    "        if i==n-1 or j==n-1 or i==(n-1)-j:\n",
    "            print(\"*\",end=\"\")\n",
    "        else:\n",
    "            print(end=\" \")\n",
    "    print()\n",
    "            "
   ]
  },
  {
   "cell_type": "code",
   "execution_count": 94,
   "id": "875b7f79",
   "metadata": {},
   "outputs": [
    {
     "name": "stdout",
     "output_type": "stream",
     "text": [
      "*****\n",
      "*  * \n",
      "* *  \n",
      "**   \n",
      "*    \n",
      "**   \n",
      "* *  \n",
      "*  * \n",
      "*****\n"
     ]
    }
   ],
   "source": [
    "#pattern 22\n",
    "x=9\n",
    "y=5\n",
    "for i in range(x):\n",
    "    for j in range(y):\n",
    "        if i==0 or j==0 or i==(y-1)+j or i==(y-1)-j or i==x-1:\n",
    "            print(\"*\",end=\"\")\n",
    "        else:\n",
    "            print(end=\" \")\n",
    "    print()"
   ]
  },
  {
   "cell_type": "code",
   "execution_count": 103,
   "id": "265ad2cf",
   "metadata": {},
   "outputs": [
    {
     "name": "stdout",
     "output_type": "stream",
     "text": [
      "    *\n",
      "   **\n",
      "  * *\n",
      " *  *\n",
      "*   *\n",
      " *  *\n",
      "  * *\n",
      "   **\n",
      "    *\n"
     ]
    }
   ],
   "source": [
    "#pattern 23\n",
    "x=9\n",
    "y=5\n",
    "for i in range(x):\n",
    "    for j in range(y):\n",
    "        if j==(y-1) or j==(y-1)-i or i==(y-1)+j:\n",
    "            print(\"*\",end=\"\")\n",
    "        else:\n",
    "            print(end=\" \")\n",
    "    print()"
   ]
  },
  {
   "cell_type": "code",
   "execution_count": 143,
   "id": "3832200c",
   "metadata": {},
   "outputs": [
    {
     "name": "stdout",
     "output_type": "stream",
     "text": [
      "*****\n",
      " *  *\n",
      "  * *\n",
      "   **\n",
      "    *\n",
      "   **\n",
      "  * *\n",
      " *  *\n",
      "*****\n"
     ]
    }
   ],
   "source": [
    "#pattern 24\n",
    "x=9\n",
    "y=5\n",
    "for i in range(x):\n",
    "    for j in range(y):\n",
    "            if i==0 or j==(y-1) or i==(x-1) or i==j or j==(x-i)-1:\n",
    "                print(\"*\",end=\"\")\n",
    "            else:\n",
    "                print(end=\" \")\n",
    "    print()"
   ]
  },
  {
   "cell_type": "code",
   "execution_count": 187,
   "id": "0ecf9fce",
   "metadata": {},
   "outputs": [
    {
     "name": "stdout",
     "output_type": "stream",
     "text": [
      "    *    \n",
      "   * *   \n",
      "  *   *  \n",
      " *     * \n",
      "*********\n"
     ]
    }
   ],
   "source": [
    "#pattern 25\n",
    "x=5\n",
    "y=9\n",
    "for i in range(x):\n",
    "    for j in range(y):\n",
    "        if i==(x-1) or j==(x-1)-i or j==(x-1)+i:\n",
    "            print(\"*\",end=\"\")\n",
    "        else:\n",
    "            print(end=\" \")\n",
    "    print()"
   ]
  },
  {
   "cell_type": "code",
   "execution_count": 11,
   "id": "b8cc48ff",
   "metadata": {},
   "outputs": [
    {
     "name": "stdout",
     "output_type": "stream",
     "text": [
      "*********\n",
      " *     * \n",
      "  *   *  \n",
      "   * *   \n",
      "    *    \n"
     ]
    }
   ],
   "source": [
    "#pattern 26\n",
    "x=5\n",
    "y=9\n",
    "for i in range(x):\n",
    "    for j in range(y):\n",
    "        if j==i or j==((y-1)-i) or i==0:\n",
    "            print(\"*\",end=\"\")\n",
    "        else:\n",
    "            print(end=\" \")\n",
    "    print()"
   ]
  },
  {
   "cell_type": "code",
   "execution_count": 207,
   "id": "e7d86813",
   "metadata": {},
   "outputs": [
    {
     "name": "stdout",
     "output_type": "stream",
     "text": [
      "    *    \n",
      "   * *   \n",
      "  *   *  \n",
      " *     * \n",
      "*       *\n",
      " *     * \n",
      "  *   *  \n",
      "   * *   \n",
      "    *    \n"
     ]
    }
   ],
   "source": [
    "#pattern 27\n",
    "x=9\n",
    "y=9\n",
    "z=4\n",
    "for i in range(x):\n",
    "    for j in range(y,0,-1):\n",
    "        if i==j-5 or i==3+j or j==z+(9-i) or j==5-i:\n",
    "            print(\"*\",end=\"\")\n",
    "        else:\n",
    "            print(end=\" \")\n",
    "    \n",
    "    print()"
   ]
  },
  {
   "cell_type": "code",
   "execution_count": 228,
   "id": "e6a4693b",
   "metadata": {},
   "outputs": [
    {
     "name": "stdout",
     "output_type": "stream",
     "text": [
      "*********\n",
      " *     * \n",
      "  *   *  \n",
      "   * *   \n",
      "    *    \n",
      "   * *   \n",
      "  *   *  \n",
      " *     * \n",
      "*********\n"
     ]
    }
   ],
   "source": [
    "#pattern 28\n",
    "x=9\n",
    "y=9\n",
    "for i in range(x):\n",
    "    for j in range(y):\n",
    "        if i==j or i==((y-1)-j) or i==0 or i==(x-1):\n",
    "            print(\"*\",end=\"\")\n",
    "        else:\n",
    "            print(end=\" \")\n",
    "    print()"
   ]
  },
  {
   "cell_type": "code",
   "execution_count": 261,
   "id": "5c8dfa20",
   "metadata": {},
   "outputs": [
    {
     "name": "stdout",
     "output_type": "stream",
     "text": [
      "*****\n",
      "*****\n",
      "*****\n",
      "*****\n",
      "*****\n"
     ]
    }
   ],
   "source": [
    "#pattern 29\n",
    "y=5\n",
    "x=5\n",
    "for i in range(x):\n",
    "    for j in range(y):\n",
    "        if i==i:\n",
    "            print(\"*\",end=\"\")\n",
    "        else:\n",
    "            print(end=\" \")\n",
    "    print()"
   ]
  }
 ],
 "metadata": {
  "kernelspec": {
   "display_name": "Python 3 (ipykernel)",
   "language": "python",
   "name": "python3"
  },
  "language_info": {
   "codemirror_mode": {
    "name": "ipython",
    "version": 3
   },
   "file_extension": ".py",
   "mimetype": "text/x-python",
   "name": "python",
   "nbconvert_exporter": "python",
   "pygments_lexer": "ipython3",
   "version": "3.9.13"
  }
 },
 "nbformat": 4,
 "nbformat_minor": 5
}
